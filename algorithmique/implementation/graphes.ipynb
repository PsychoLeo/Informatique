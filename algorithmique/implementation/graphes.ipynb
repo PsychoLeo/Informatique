{
 "cells": [
  {
   "cell_type": "markdown",
   "metadata": {},
   "source": [
    "# Graphes et Parcours de graphes\n",
    "\n",
    "| Metro Santiago | Carte trains france |\n",
    ":-------------------------:|:-------------------------:\n",
    "<img src=\"https://garance.cat/upload/mapa-metro-santiago.png\" width = 360px height = 640px> | <img src=\"https://garance.cat/upload/carte-grande_fr.jpg\" width = 360px height = 640px>\n",
    "\n",
    "Quel point commun ?\n",
    "\n",
    "### Comment savoir si deux points sont liés ?\n",
    "\n",
    "### Je veux aller d'un point $A$ à un point $B$, comment trouver le chemin le plus court ?\n",
    "\n",
    "<img src =\"https://images.theconversation.com/files/242996/original/file-20181030-76411-ita0xy.png?ixlib=rb-1.1.0&q=45&auto=format&w=926&fit=clip\" width = 660px height = 1240px>\n",
    "graphe des relations entre mails individuels et listes de mails du MIT Media Lab.\n",
    "\n",
    "\n",
    "### Et maintenant ? \n"
   ]
  },
  {
   "cell_type": "markdown",
   "metadata": {},
   "source": [
    "# Concept théorique\n",
    "\n",
    "### Graphe non orienté\n",
    "\n",
    "<img src =\"https://upload.wikimedia.org/wikipedia/commons/thumb/5/5b/6n-graf.svg/1280px-6n-graf.svg.png\" width = 460px height = 840px>\n",
    "\n",
    "### Graphe orienté\n",
    "\n",
    "<img src =\"https://upload.wikimedia.org/wikipedia/commons/thumb/2/23/Directed_graph_no_background.svg/1200px-Directed_graph_no_background.svg.png\" width = 460px height = 840px>\n",
    "\n",
    "## Représentation en python\n",
    "\n",
    "\n",
    "### Format d'entré\n",
    "\n",
    "1er ligne nombre de sommets : $S$\n",
    "\n",
    "2eme ligne nombre d'arretes : $A$\n",
    "\n",
    "Dans les $A$ lignes suivantes : $(s_1, s_2)$ une arrete.\n",
    "\n",
    "Pour le graphe orienté : \n",
    "<img src =\"https://upload.wikimedia.org/wikipedia/commons/thumb/2/23/Directed_graph_no_background.svg/1200px-Directed_graph_no_background.svg.png\" width = 360px height = 640px>\n",
    "\n"
   ]
  },
  {
   "cell_type": "raw",
   "metadata": {},
   "source": [
    "4\n",
    "5\n",
    "1 2\n",
    "1 3\n",
    "3 2\n",
    "3 4\n",
    "4 3"
   ]
  },
  {
   "cell_type": "markdown",
   "metadata": {},
   "source": [
    "\n",
    "### Matrice d'adjacence \n",
    "\n",
    "S'il y a une arrete de `i` à `j`, `m[i][j] = 1`, sinon `m[i][j] = 0`."
   ]
  },
  {
   "cell_type": "code",
   "execution_count": null,
   "metadata": {},
   "outputs": [],
   "source": [
    "# Passer de l'entrée à la matrice\n",
    "\n",
    "S = int(input()) # nombre de sommets\n",
    "A = int(input()) # nombre d'arretes\n",
    "# on crée la matrice sans arretes pour l'instant\n",
    "M = [[0 for i in range(S+1)] for j in range(S+1)] \n",
    "# S+1 car on compte de 1 à S\n",
    "for i in range (A):\n",
    "    s1, s2 = map(int, input().split()) # on lit les deux nombres \n",
    "    M[s1][s2] = 1 # on ajoute l'arrete s1 s2\n",
    "\n",
    "print(M)"
   ]
  },
  {
   "cell_type": "markdown",
   "metadata": {},
   "source": [
    "### Liste d'ajacence \n",
    "\n",
    "On maitiens une liste de voisin.\n",
    "\n",
    "Si `i` et `j` sont liés, on ajoute `j` à `voisins[i]` "
   ]
  },
  {
   "cell_type": "code",
   "execution_count": null,
   "metadata": {},
   "outputs": [],
   "source": [
    "# Passer de l'entrée à la liste d'adjacence\n",
    "\n",
    "S = int(input()) # nombre de sommet\n",
    "A = int(input()) # nombre d'arretes\n",
    "voisins = [[] for i in range(S+1)]\n",
    "for i in range(A):\n",
    "    s1, s2 = map(int, input().split()) # on lit les deux nombres \n",
    "    voisins[s1].append(s2) # on ajoute l'arete\n",
    "\n",
    "print(voisins)"
   ]
  },
  {
   "cell_type": "markdown",
   "metadata": {},
   "source": [
    "# Parcours de graphe \n",
    "\n",
    "Comment savoir s'il y a un chemin entre A et B ?\n",
    "\n",
    "## Parcours en profondeur\n",
    "\n",
    "<img src =\"https://upload.wikimedia.org/wikipedia/commons/thumb/7/7f/Depth-First-Search.gif/220px-Depth-First-Search.gif\" width = 360px height = 640px>\n",
    "\n",
    "Visualisation: https://www.cs.usfca.edu/~galles/visualization/DFS.html"
   ]
  },
  {
   "cell_type": "code",
   "execution_count": null,
   "metadata": {},
   "outputs": [],
   "source": [
    "# Parcours en profondeur pour la representation en liste d'adjacence\n",
    "\n",
    "S = int(input()) # nombre de sommets\n",
    "A = int(input()) # nombre d'arretes\n",
    "voisins = [[] for i in range(S+1)]\n",
    "for i in range(A):\n",
    "    s1, s2 = map(int, input().split()) # on lit les deux nombres \n",
    "    voisins[s1].append(s2) # on ajoute l'arete\n",
    "\n",
    "\n",
    "def parcours_profondeur_recursif(voisins,s,vu):\n",
    "    print(s) # on affiche les sommet dans l'ordre ou on les découvre\n",
    "    vu[s] = True # on les marque comme vu pour ne pas tourner en rond\n",
    "    for voisin in voisins[s]:\n",
    "        if not vu[voisin]:\n",
    "            parcours_profondeur_recursif(voisins,voisin,vu) \n",
    "            # Comme vu a changé on est sur de ne pas tourner en rond\n",
    "\n",
    "vu = [False for i in range(S+1)]\n",
    "parcours_profondeur_recursif(voisins,1,vu) \n",
    "\n",
    "def parcours_profondeur_iteratif(voisins, s):\n",
    "    vu = [False for i in range(S+1)]\n",
    "    vu[s] = True\n",
    "    a_visiter = [s]\n",
    "    while a_visiter: # tant qu'il reste des sommets à visiter \n",
    "        v = a_visiter.pop() # on prend le dernier element dans à visiter\n",
    "        print(v)\n",
    "        for voisin in voisins[v]:\n",
    "            if not vu[voisin]:\n",
    "                vu[voisin] = True\n",
    "                a_visiter.append(voisin)\n",
    "        \n",
    "\n",
    "parcours_profondeur_iteratif(voisins,1) "
   ]
  },
  {
   "cell_type": "markdown",
   "metadata": {},
   "source": [
    "## Parcours en largeur \n",
    "\n",
    "<img src =\"https://upload.wikimedia.org/wikipedia/commons/4/46/Animated_BFS.gif\" width = 360px height = 640px>\n",
    "\n",
    "Visualisation: https://www.cs.usfca.edu/~galles/visualization/BFS.html"
   ]
  },
  {
   "cell_type": "code",
   "execution_count": null,
   "metadata": {},
   "outputs": [],
   "source": [
    "from collections import deque\n",
    "# Parcours en largeur pour la representation en liste d'adjacence\n",
    "\n",
    "S = int(input()) # nombre de sommets\n",
    "A = int(input()) # nombre d'aretes\n",
    "voisins = [[] for i in range(S+1)]\n",
    "for i in range(A):\n",
    "    s1, s2 = map(int, input().split()) # on lit les deux nombres \n",
    "    voisins[s1].append(s2) # on ajoute l'arete\n",
    "\n",
    "def parcours_largeur_iteratif(voisins, s):\n",
    "    vu = [False for i in range(S+1)]\n",
    "    vu[s] = True\n",
    "    \n",
    "    a_visiter = deque() # File au lieu de Pile\n",
    "    a_visiter.appendleft(s)\n",
    "    while a_visiter: # tant qu'il reste des sommets à visiter \n",
    "        v = a_visiter.pop() # on prend le premier element dans à visiter\n",
    "        print(v)\n",
    "        for voisin in voisins[v]:\n",
    "            if not vu[voisin]:\n",
    "                vu[voisin] = True\n",
    "                a_visiter.appendleft(voisin) # on ajoute les voisins à la fin de la file\n",
    "\n",
    "parcours_largeur_iteratif(voisins,1) \n"
   ]
  },
  {
   "cell_type": "markdown",
   "metadata": {},
   "source": [
    "Oui mais en vrai, Paris-Lille et Paris-Bordeaux, c'est pas la même distance ?\n",
    "\n",
    "# Les graphes pondérés \n",
    "\n",
    "<img src =\"https://haltode.fr/img/algo/structure/graphe/plus_court_chemin/dijkstra/exemple_graphe.png\" width = 360px height = 640px>\n",
    "\n",
    "# Nouvelle representation avec les poids en plus\n",
    "\n",
    "Même chose qu'avant mais chaque arrete à un poid en plus !\n"
   ]
  },
  {
   "cell_type": "raw",
   "metadata": {},
   "source": [
    "6\n",
    "8\n",
    "1 2 1\n",
    "1 3 1\n",
    "2 3 3\n",
    "2 6 10\n",
    "3 4 2\n",
    "3 5 4\n",
    "4 6 4\n",
    "5 6 3"
   ]
  },
  {
   "cell_type": "code",
   "execution_count": null,
   "metadata": {},
   "outputs": [],
   "source": [
    "# Passer de l'entrée à la liste d'adjacence\n",
    "\n",
    "S = int(input()) # nombre de sommet\n",
    "A = int(input()) # nombre d'arretes\n",
    "voisins = [[] for i in range(S+1)]\n",
    "poids = [[0 for i in range(S+1)] for j in range(S+1)]\n",
    "for i in range(A):\n",
    "    s1, s2, p = map(int, input().split()) # on lit les deux nombres \n",
    "    voisins[s1].append(s2) # on ajoute l'arete\n",
    "    voisins[s2].append(s1)\n",
    "    poids[s1][s2] = p\n",
    "    poids[s2][s1] = p\n",
    "\n",
    "print(voisins)\n",
    "print(poids)"
   ]
  },
  {
   "cell_type": "markdown",
   "metadata": {},
   "source": [
    "# Algorithme de Dijkstra\n",
    "\n",
    "Comment touver le plus court chemin sur un arbre pondéré ?\n",
    "\n",
    "Un peu comme le parcours en largeur mais on visite avec en priorité les arretes proches au sens des poids !\n",
    "\n",
    "Attention il ne fonctionne que si le poids des arretes est possitif !"
   ]
  },
  {
   "cell_type": "code",
   "execution_count": null,
   "metadata": {},
   "outputs": [],
   "source": [
    "from heapq import heappop,heappush\n",
    "\n",
    "S = int(input()) # nombre de sommet\n",
    "A = int(input()) # nombre d'arretes\n",
    "voisins = [[] for i in range(S+1)]\n",
    "poids = [[0 for i in range(S+1)] for j in range(S+1)]\n",
    "for i in range(A):\n",
    "    s1, s2, p = map(int, input().split()) # on lit les deux nombres \n",
    "    voisins[s1].append(s2) # on ajoute l'arete\n",
    "    voisins[s2].append(s1)\n",
    "    poids[s1][s2] = p\n",
    "    poids[s2][s1] = p\n",
    "\n",
    "def dijkstra(voisins, poids,source,objectif):\n",
    "    vu = [False for i in range(len(voisins))]\n",
    "    dist = [float('inf') for i in range(len(voisins))] # tous les sommet sont a une distance infini\n",
    "    dist[source] = 0\n",
    "    file = [(0,source)]\n",
    "    while file:\n",
    "        dist_s,s = heappop(file) # on recupère le sommet le plus proche\n",
    "        if not vu[s]:\n",
    "            vu[s]=True\n",
    "            if s == objectif:\n",
    "                break\n",
    "            for voisin in voisins[s]:\n",
    "                dist_voisin = dist_s + poids[s][voisin]\n",
    "                if dist_voisin < dist[voisin]:\n",
    "                    dist[voisin] = dist_voisin\n",
    "                    heappush(file, (dist_voisin,voisin)) \n",
    "    return dist[objectif]\n",
    "\n",
    "print(dijkstra(voisins,poids,1,6))"
   ]
  },
  {
   "cell_type": "markdown",
   "metadata": {},
   "source": [
    "# Ressources complémentaires\n",
    "\n",
    "* https://haltode.fr/algo/structure/graphe.html\n",
    "* (Livre) https://tryalgo.org/book/\n"
   ]
  },
  {
   "cell_type": "markdown",
   "metadata": {},
   "source": [
    "# Exercices Prologin sur des graphes !\n",
    "\n",
    "Les exercices de niveau 4 de Prologin portent très souvent sur des problèmes de graphes mais pas forcément sur du parcours de graphe ou de plus court chemin.\n",
    "\n",
    "Cependant vous devriez être en mesure de résoudre : \n",
    "* https://prologin.org/train/2015/qualification/expert_itinerant\n",
    "* https://prologin.org/train/2020/qualification/capitalisme_interplanetaire\n",
    "\n",
    "Exemples de problèmes de graphe (mais dont la réponse ne se trouve pas dans cet atelier!) :\n",
    "* https://prologin.org/train/2016/qualification/apres_le_deluge\n",
    "* https://prologin.org/train/2019/qualification/la_meilleure_ville"
   ]
  },
  {
   "cell_type": "code",
   "execution_count": null,
   "metadata": {},
   "outputs": [],
   "source": []
  }
 ],
 "metadata": {
  "kernelspec": {
   "display_name": "Python 3",
   "language": "python",
   "name": "python3"
  },
  "language_info": {
   "codemirror_mode": {
    "name": "ipython",
    "version": 3
   },
   "file_extension": ".py",
   "mimetype": "text/x-python",
   "name": "python",
   "nbconvert_exporter": "python",
   "pygments_lexer": "ipython3",
   "version": "3.8.3"
  }
 },
 "nbformat": 4,
 "nbformat_minor": 4
}
